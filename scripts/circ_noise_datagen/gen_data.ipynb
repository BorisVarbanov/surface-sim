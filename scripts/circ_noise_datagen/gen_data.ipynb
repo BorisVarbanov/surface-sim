{
 "cells": [
  {
   "cell_type": "code",
   "execution_count": 1,
   "metadata": {},
   "outputs": [],
   "source": [
    "import pathlib\n",
    "from itertools import count\n",
    "from typing import Union, List\n",
    "\n",
    "import numpy as np\n",
    "import xarray as xr\n",
    "from matplotlib import pyplot as plt\n",
    "\n",
    "from qec_util import Layout\n",
    "from qec_util.layouts import plot as plot_layout\n",
    "\n",
    "from surface_sim import Setup\n",
    "from surface_sim.models import CircuitNoiseModel\n",
    "from surface_sim.experiments import memory_exp\n",
    "from surface_sim.util import sample_experiment"
   ]
  },
  {
   "cell_type": "code",
   "execution_count": 2,
   "metadata": {},
   "outputs": [],
   "source": [
    "EXP_DIR : str = pathlib.Path.cwd()\n",
    "\n",
    "CONFIG_DIR = EXP_DIR / \"config\"\n",
    "if not CONFIG_DIR.exists():\n",
    "    raise ValueError(\"Layout directory does not exist.\")"
   ]
  },
  {
   "cell_type": "code",
   "execution_count": 3,
   "metadata": {},
   "outputs": [],
   "source": [
    "LAYOUT_FILE = \"d3_rotated_layout.yaml\"\n",
    "SETUP_FILE = \"gen_circ_noise.yaml\"\n",
    "\n",
    "layout = Layout.from_yaml(CONFIG_DIR / LAYOUT_FILE)\n",
    "setup = Setup.from_yaml(CONFIG_DIR / SETUP_FILE)\n",
    "model = CircuitNoiseModel(setup, layout)"
   ]
  },
  {
   "cell_type": "markdown",
   "metadata": {},
   "source": [
    "# Generate the training data"
   ]
  },
  {
   "cell_type": "code",
   "execution_count": 4,
   "metadata": {},
   "outputs": [],
   "source": [
    "DATASET_TYPE : str = \"dev\" # Possible types are \"train\", \"dev\" and \"test\"\n",
    "\n",
    "# Fixed parameters\n",
    "ROOT_SEED : Union[int, None] = 4028 # Initial seed for the RNG\n",
    "NUM_ROUNDS : int = 20 # Number of rounds\n",
    "NUM_SHOTS : int = 10000 # Number of shots\n",
    "ROT_BASIS : bool = False  # In the z-basis\n",
    "MEAS_RESET : bool = False # No resets following measurements\n",
    "\n",
    "# Variable parameters\n",
    "LOG_STATES : List[int] = [0, 1] # Logical state(s)"
   ]
  },
  {
   "cell_type": "code",
   "execution_count": 5,
   "metadata": {},
   "outputs": [],
   "source": [
    "basis = \"X\" if ROT_BASIS else \"Z\"\n",
    "seed_sequence = np.random.SeedSequence(ROOT_SEED)\n",
    "\n",
    "num_experiments = len(LOG_STATES)\n",
    "seeds = iter(seed_sequence.generate_state(num_experiments, dtype=\"uint64\"))\n",
    "datasets = []\n",
    "\n",
    "for log_state in LOG_STATES:\n",
    "    exp_name = f\"surf-code_d{layout.distance}_b{basis}_s{log_state}_n{NUM_SHOTS}_r{NUM_ROUNDS}\"\n",
    "\n",
    "    exp_folder = EXP_DIR / DATASET_TYPE / exp_name\n",
    "    exp_folder.mkdir(parents=True, exist_ok=True)\n",
    "\n",
    "    experiment = memory_exp(\n",
    "        model=model,\n",
    "        num_rounds=NUM_ROUNDS,\n",
    "        log_state=log_state,\n",
    "        rot_basis=ROT_BASIS,\n",
    "        meas_reset=MEAS_RESET,\n",
    "    )\n",
    "\n",
    "    experiment.to_file(exp_folder / \"circuit.stim\")\n",
    "\n",
    "    seed = next(seeds)\n",
    "    dataset = sample_experiment(\n",
    "        layout,\n",
    "        experiment,\n",
    "        seed=seed,\n",
    "        num_shots=NUM_SHOTS,\n",
    "        num_rounds=NUM_ROUNDS,\n",
    "    )\n",
    "\n",
    "    # assign these as coordinate for merging datasets later on. Add here any otther relevant parameters\n",
    "    dataset = dataset.assign_coords(\n",
    "        log_state=log_state,\n",
    "        rot_basis=ROT_BASIS,\n",
    "        meas_reset=MEAS_RESET,\n",
    "    )\n",
    "\n",
    "    dataset.to_netcdf(exp_folder / \"measurements.nc\")\n",
    "\n",
    "    error_model = experiment.detector_error_model(\n",
    "        decompose_errors=True,\n",
    "        allow_gauge_detectors=True,\n",
    "    )\n",
    "    error_model.to_file(exp_folder / \"detector_error_model.dem\")\n"
   ]
  },
  {
   "cell_type": "code",
   "execution_count": null,
   "metadata": {},
   "outputs": [],
   "source": []
  }
 ],
 "metadata": {
  "kernelspec": {
   "display_name": "surface-sim-kernel",
   "language": "python",
   "name": "surface-sim-kernel"
  },
  "language_info": {
   "codemirror_mode": {
    "name": "ipython",
    "version": 3
   },
   "file_extension": ".py",
   "mimetype": "text/x-python",
   "name": "python",
   "nbconvert_exporter": "python",
   "pygments_lexer": "ipython3",
   "version": "3.10.8 (main, Jan 11 2023, 10:45:16) [Clang 14.0.0 (clang-1400.0.29.202)]"
  }
 },
 "nbformat": 4,
 "nbformat_minor": 2
}
