{
 "cells": [
  {
   "cell_type": "code",
   "execution_count": 1,
   "metadata": {},
   "outputs": [],
   "source": [
    "import pathlib\n",
    "from itertools import count\n",
    "from typing import Union, List\n",
    "\n",
    "import numpy as np\n",
    "import xarray as xr\n",
    "from matplotlib import pyplot as plt\n",
    "\n",
    "from qec_util import Layout\n",
    "from qec_util.layouts import plot as plot_layout\n",
    "\n",
    "from surface_sim import Setup\n",
    "from surface_sim.models import CircuitNoiseModel\n",
    "from surface_sim.experiments import memory_exp\n",
    "from surface_sim.util import sample_experiment"
   ]
  },
  {
   "cell_type": "code",
   "execution_count": 2,
   "metadata": {},
   "outputs": [],
   "source": [
    "EXP_NAME : str = \"d3_rot-surf_circ-level_example\"\n",
    "\n",
    "NOTEBOOK_DIR = pathlib.Path.cwd()\n",
    "DATA_DIR: str = NOTEBOOK_DIR / \"data\" / EXP_NAME\n",
    "\n",
    "LAYOUT_DIR = NOTEBOOK_DIR / \"layouts\"\n",
    "if not LAYOUT_DIR.exists():\n",
    "    raise ValueError(\"Layout directory does not exist.\")\n",
    "\n",
    "SETUP_DIR = NOTEBOOK_DIR / \"setups\"\n",
    "if not SETUP_DIR.exists():\n",
    "    raise ValueError(\"Setup directory does not exist.\")"
   ]
  },
  {
   "cell_type": "code",
   "execution_count": 3,
   "metadata": {},
   "outputs": [
    {
     "ename": "FileNotFoundError",
     "evalue": "[Errno 2] No such file or directory: '/Users/bmvarbanov/Projects/transmon/surface_codes/surface-sim/scripts/circ_noise_datagen/setups/circ_level_noise.yaml'",
     "output_type": "error",
     "traceback": [
      "\u001b[0;31m---------------------------------------------------------------------------\u001b[0m",
      "\u001b[0;31mFileNotFoundError\u001b[0m                         Traceback (most recent call last)",
      "Cell \u001b[0;32mIn[3], line 5\u001b[0m\n\u001b[1;32m      2\u001b[0m layout \u001b[39m=\u001b[39m Layout\u001b[39m.\u001b[39mfrom_yaml(LAYOUT_DIR \u001b[39m/\u001b[39m LAYOUT_FILE)\n\u001b[1;32m      4\u001b[0m SETUP_FILE \u001b[39m=\u001b[39m \u001b[39m\"\u001b[39m\u001b[39mcirc_level_noise.yaml\u001b[39m\u001b[39m\"\u001b[39m\n\u001b[0;32m----> 5\u001b[0m setup \u001b[39m=\u001b[39m Setup\u001b[39m.\u001b[39;49mfrom_yaml(SETUP_DIR \u001b[39m/\u001b[39;49m SETUP_FILE)\n\u001b[1;32m      7\u001b[0m model \u001b[39m=\u001b[39m CircuitNoiseModel(setup, layout)\n",
      "File \u001b[0;32m~/Projects/transmon/surface_codes/surface-sim/surface_sim/setup/setup.py:47\u001b[0m, in \u001b[0;36mSetup.from_yaml\u001b[0;34m(cls, filename)\u001b[0m\n\u001b[1;32m     32\u001b[0m \u001b[39m@classmethod\u001b[39m\n\u001b[1;32m     33\u001b[0m \u001b[39mdef\u001b[39;00m \u001b[39mfrom_yaml\u001b[39m(\u001b[39mcls\u001b[39m: Type[T], filename: Union[\u001b[39mstr\u001b[39m, Path]) \u001b[39m-\u001b[39m\u001b[39m>\u001b[39m T:\n\u001b[1;32m     34\u001b[0m \u001b[39m    \u001b[39m\u001b[39m\"\"\"\u001b[39;00m\n\u001b[1;32m     35\u001b[0m \u001b[39m    from_yaml Create new surface_sim.setup.Setup instance from YAML configuarion file.\u001b[39;00m\n\u001b[1;32m     36\u001b[0m \n\u001b[0;32m   (...)\u001b[0m\n\u001b[1;32m     45\u001b[0m \u001b[39m        The initialised surface_sim.setup.Setup object based on the yaml.\u001b[39;00m\n\u001b[1;32m     46\u001b[0m \u001b[39m    \"\"\"\u001b[39;00m\n\u001b[0;32m---> 47\u001b[0m     \u001b[39mwith\u001b[39;00m \u001b[39mopen\u001b[39;49m(filename, \u001b[39m\"\u001b[39;49m\u001b[39mr\u001b[39;49m\u001b[39m\"\u001b[39;49m) \u001b[39mas\u001b[39;00m file:\n\u001b[1;32m     48\u001b[0m         setup \u001b[39m=\u001b[39m yaml\u001b[39m.\u001b[39msafe_load(file)\n\u001b[1;32m     49\u001b[0m         \u001b[39mreturn\u001b[39;00m \u001b[39mcls\u001b[39m(setup)\n",
      "\u001b[0;31mFileNotFoundError\u001b[0m: [Errno 2] No such file or directory: '/Users/bmvarbanov/Projects/transmon/surface_codes/surface-sim/scripts/circ_noise_datagen/setups/circ_level_noise.yaml'"
     ]
    }
   ],
   "source": [
    "LAYOUT_FILE = \"d3_rotated_layout.yaml\"\n",
    "layout = Layout.from_yaml(LAYOUT_DIR / LAYOUT_FILE)\n",
    "\n",
    "SETUP_FILE = \"circ_level_noise.yaml\"\n",
    "setup = Setup.from_yaml(SETUP_DIR / SETUP_FILE)\n",
    "\n",
    "model = CircuitNoiseModel(setup, layout)"
   ]
  },
  {
   "cell_type": "markdown",
   "metadata": {},
   "source": [
    "# Generate the training data"
   ]
  },
  {
   "cell_type": "code",
   "execution_count": null,
   "metadata": {},
   "outputs": [],
   "source": [
    "DATASET_TYPE : int = \"test\" # Possible types are \"train\", \"dev\" and \"test\"\n",
    "\n",
    "ROOT_SEED : Union[int, None] = 4028 # Initial seed for the RNG\n",
    "LOG_STATES : List[int] = [0, 1] # Logical state(s)\n",
    "NUM_ROUNDS : int = 20 # Number of rounds\n",
    "NUM_SHOTS : int = 10000 # Number of shots\n",
    "ROT_BASIS : bool = False  # In the z-basis\n",
    "MEAS_RESET : bool = False # No resets following measurements"
   ]
  },
  {
   "cell_type": "code",
   "execution_count": null,
   "metadata": {},
   "outputs": [],
   "source": [
    "basis = \"X\" if ROT_BASIS else \"Z\"\n",
    "seed_sequence = np.random.SeedSequence(ROOT_SEED)\n",
    "seeds = seed_sequence.generate_state(2)\n",
    "\n",
    "datasets = []\n",
    "\n",
    "for log_state, seed in zip(LOG_STATES, seeds):\n",
    "    exp_name = f\"surf-code_d{layout.distance}_b{basis}_s{log_state}_n{NUM_SHOTS}_r{NUM_ROUNDS}\"\n",
    "\n",
    "    exp_folder = DATA_DIR / DATASET_TYPE / exp_name\n",
    "    exp_folder.mkdir(parents=True, exist_ok=True)\n",
    "\n",
    "    experiment = memory_exp(\n",
    "        model=model,\n",
    "        num_rounds=NUM_ROUNDS,\n",
    "        log_state=log_state,\n",
    "        rot_basis=ROT_BASIS,\n",
    "        meas_reset=MEAS_RESET,\n",
    "    )\n",
    "\n",
    "    experiment.to_file(exp_folder / \"circuit\")\n",
    "\n",
    "    dataset = sample_experiment(\n",
    "        layout,\n",
    "        experiment,\n",
    "        seed=seed,\n",
    "        num_shots=NUM_SHOTS,\n",
    "        num_rounds=NUM_ROUNDS,\n",
    "    )\n",
    "\n",
    "    # assign these as coordinate for merging datasets later on. Add here any otther relevant parameters\n",
    "    dataset = dataset.assign_coords(\n",
    "        log_state=log_state,\n",
    "        rot_basis=int(ROT_BASIS),\n",
    "        meas_reset=int(MEAS_RESET),\n",
    "    )\n",
    "\n",
    "    dataset.to_netcdf(exp_folder / \"measurements.nc\")\n",
    "\n",
    "    error_model = experiment.detector_error_model(\n",
    "        decompose_errors=True,\n",
    "        allow_gauge_detectors=True,\n",
    "    )\n",
    "    error_model.to_file(exp_folder / \"detector_error_model\")\n",
    "\n",
    "    setup.to_yaml(exp_folder / \"model_setup.yaml\")\n",
    "    layout.to_yaml(exp_folder / \"layout_setup.yaml\")\n"
   ]
  }
 ],
 "metadata": {
  "kernelspec": {
   "display_name": "surface-sim-kernel",
   "language": "python",
   "name": "surface-sim-kernel"
  },
  "language_info": {
   "codemirror_mode": {
    "name": "ipython",
    "version": 3
   },
   "file_extension": ".py",
   "mimetype": "text/x-python",
   "name": "python",
   "nbconvert_exporter": "python",
   "pygments_lexer": "ipython3",
   "version": "3.10.2"
  }
 },
 "nbformat": 4,
 "nbformat_minor": 2
}
