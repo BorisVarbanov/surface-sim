{
 "cells": [
  {
   "cell_type": "code",
   "execution_count": 1,
   "metadata": {},
   "outputs": [],
   "source": [
    "import pathlib\n",
    "from itertools import count\n",
    "\n",
    "import numpy as np\n",
    "import xarray as xr\n",
    "from matplotlib import pyplot as plt\n",
    "\n",
    "from qec_util import Layout\n",
    "from qec_util.layouts import plot as plot_layout\n",
    "\n",
    "from surface_sim import Setup\n",
    "from surface_sim.models import CircuitNoiseModel\n",
    "from surface_sim.experiments import memory_exp"
   ]
  },
  {
   "cell_type": "code",
   "execution_count": 14,
   "metadata": {},
   "outputs": [],
   "source": [
    "def sample_outcomes(experiment, seed, num_shots):\n",
    "    sampler = experiment.compile_sampler(seed=seed)\n",
    "    outcomes = sampler.sample(num_shots)\n",
    "    return outcomes\n",
    "\n",
    "def outcome_dataset(outcomes, num_shots, num_rounds, num_anc):\n",
    "    outcomes = outcomes.reshape(num_shots, -1)\n",
    "    anc_outcomes, data_outcomes = np.split(\n",
    "        outcomes, [num_rounds * num_anc], axis=1\n",
    "    )\n",
    "    anc_outcomes = anc_outcomes.reshape(num_shots, num_rounds, num_anc)\n",
    "\n",
    "    anc_meas = xr.DataArray(\n",
    "        data=anc_outcomes.astype(int),\n",
    "        dims=[\"shot\", \"qec_round\", \"anc_qubit\"],\n",
    "    )\n",
    "\n",
    "    data_meas = xr.DataArray(\n",
    "        data=data_outcomes.astype(int),\n",
    "        dims=[\"shot\", \"data_qubit\"],\n",
    "    )\n",
    "\n",
    "    dataset = xr.Dataset(\n",
    "        data_vars=dict(\n",
    "            anc_meas=anc_meas,\n",
    "            data_meas=data_meas,\n",
    "        )\n",
    "    )\n",
    "\n",
    "    return dataset"
   ]
  },
  {
   "cell_type": "code",
   "execution_count": 12,
   "metadata": {},
   "outputs": [],
   "source": [
    "EXP_NAME = \"d3_rot-surf_circ-level_example\"\n",
    "\n",
    "NOTEBOOK_DIR = pathlib.Path.cwd()\n",
    "\n",
    "LAYOUT_DIR = NOTEBOOK_DIR / \"layouts\"\n",
    "if not LAYOUT_DIR.exists():\n",
    "    raise ValueError(\"Layout directory does not exist.\")\n",
    "\n",
    "SETUP_DIR = NOTEBOOK_DIR / \"setups\"\n",
    "if not SETUP_DIR.exists():\n",
    "    raise ValueError(\"Setup directory does not exist.\")\n",
    "\n",
    "DATA_DIR = NOTEBOOK_DIR / \"data\" / EXP_NAME\n",
    "DATASET_TYPES = (\"train\", \"dev\", \"test\")"
   ]
  },
  {
   "cell_type": "code",
   "execution_count": 3,
   "metadata": {},
   "outputs": [],
   "source": [
    "LAYOUT_FILE = \"d3_rotated_layout.yaml\"\n",
    "layout = Layout.from_yaml(LAYOUT_DIR / LAYOUT_FILE)\n",
    "\n",
    "SETUP_FILE = \"circuit_level_noise.yaml\"\n",
    "setup = Setup.from_yaml(SETUP_DIR / SETUP_FILE)\n",
    "\n",
    "model = CircuitNoiseModel(setup, layout)"
   ]
  },
  {
   "cell_type": "markdown",
   "metadata": {},
   "source": [
    "# Generate the training data"
   ]
  },
  {
   "cell_type": "code",
   "execution_count": 10,
   "metadata": {},
   "outputs": [],
   "source": [
    "DATASET_TYPE = \"train\"\n",
    "\n",
    "SEED = 4028 # Initial seed for the RNG\n",
    "LOG_STATES = [0, 1] # Logical state\n",
    "NUM_ROUNDS = 60 # Number of rounds\n",
    "NUM_SHOTS = 10000 # Number of shots\n",
    "ROT_BASIS = False  # In the z-basis\n",
    "MEASUREMENT_RESET = False # No resets following measurements"
   ]
  },
  {
   "cell_type": "code",
   "execution_count": 15,
   "metadata": {},
   "outputs": [],
   "source": [
    "assert DATASET_TYPE in DATASET_TYPES\n",
    "\n",
    "qec_rounds = list(range(1, NUM_ROUNDS + 1))\n",
    "shots = list(range(1, NUM_SHOTS + 1))\n",
    "\n",
    "data_qubits = layout.get_qubits(role=\"data\")\n",
    "anc_qubits = layout.get_qubits(role=\"anc\")\n",
    "dist = layout.distance\n",
    "\n",
    "num_anc = len(anc_qubits)\n",
    "rng = np.random.default_rng(SEED)\n",
    "\n",
    "datasets = []\n",
    "\n",
    "for log_state in LOG_STATES:\n",
    "    seed = rng.integers(0, 4294967296)\n",
    "\n",
    "    basis = \"X\" if ROT_BASIS else \"Z\"\n",
    "    exp_name = f\"surf-code_d{dist}_b{basis}_s{log_state}_n{NUM_SHOTS}_r{NUM_ROUNDS}\"\n",
    "\n",
    "    exp_folder = DATA_DIR / DATASET_TYPE / exp_name\n",
    "    exp_folder.mkdir(parents=True, exist_ok=True)\n",
    "\n",
    "    experiment = memory_exp(\n",
    "        model,\n",
    "        num_rounds=NUM_ROUNDS,\n",
    "        log_state=log_state,\n",
    "        rot_basis=ROT_BASIS,\n",
    "        meas_reset=MEASUREMENT_RESET,\n",
    "    )\n",
    "\n",
    "    experiment.to_file(exp_folder / \"circuit\")\n",
    "\n",
    "    outcomes = sample_outcomes(experiment, seed, NUM_SHOTS)\n",
    "    dataset = outcome_dataset(outcomes, NUM_SHOTS, NUM_ROUNDS, num_anc)\n",
    "\n",
    "    dataset = dataset.assign_coords(\n",
    "        seed=seed,\n",
    "        shot=shots,\n",
    "        qec_round=qec_rounds,\n",
    "        data_qubit=data_qubits,\n",
    "        anc_qubits=anc_qubits,\n",
    "        log_state=log_state,\n",
    "        rot_basis=int(ROT_BASIS),\n",
    "        meas_reset=int(MEASUREMENT_RESET),\n",
    "    )\n",
    "\n",
    "    dataset.to_netcdf(exp_folder / \"measurements.nc\")\n",
    "\n",
    "    error_model = experiment.detector_error_model(\n",
    "        decompose_errors=True,\n",
    "        allow_gauge_detectors=True,\n",
    "    )\n",
    "    error_model.to_file(exp_folder / \"detector_error_model\")\n"
   ]
  },
  {
   "cell_type": "code",
   "execution_count": null,
   "metadata": {},
   "outputs": [],
   "source": []
  }
 ],
 "metadata": {
  "kernelspec": {
   "display_name": "surface-sim-kernel",
   "language": "python",
   "name": "surface-sim-kernel"
  },
  "language_info": {
   "codemirror_mode": {
    "name": "ipython",
    "version": 3
   },
   "file_extension": ".py",
   "mimetype": "text/x-python",
   "name": "python",
   "nbconvert_exporter": "python",
   "pygments_lexer": "ipython3",
   "version": "3.10.8"
  }
 },
 "nbformat": 4,
 "nbformat_minor": 2
}
