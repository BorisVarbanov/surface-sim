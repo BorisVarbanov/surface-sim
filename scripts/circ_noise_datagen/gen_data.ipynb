{
 "cells": [
  {
   "cell_type": "code",
   "execution_count": 1,
   "metadata": {},
   "outputs": [],
   "source": [
    "import pathlib\n",
    "from itertools import count\n",
    "from typing import Union, List\n",
    "\n",
    "import numpy as np\n",
    "import xarray as xr\n",
    "from matplotlib import pyplot as plt\n",
    "\n",
    "from qec_util import Layout\n",
    "from qec_util.layouts import plot as plot_layout\n",
    "\n",
    "from surface_sim import Setup\n",
    "from surface_sim.models import CircuitNoiseModel\n",
    "from surface_sim.experiments import memory_exp\n",
    "from surface_sim.util import sample_experiment"
   ]
  },
  {
   "cell_type": "code",
   "execution_count": 2,
   "metadata": {},
   "outputs": [],
   "source": [
    "EXP_NAME : str = \"d3_rot-surf_circ-level_example\"\n",
    "\n",
    "NOTEBOOK_DIR = pathlib.Path.cwd()\n",
    "DATA_DIR: str = NOTEBOOK_DIR / \"data\" / EXP_NAME\n",
    "\n",
    "LAYOUT_DIR = NOTEBOOK_DIR / \"layouts\"\n",
    "if not LAYOUT_DIR.exists():\n",
    "    raise ValueError(\"Layout directory does not exist.\")\n",
    "\n",
    "SETUP_DIR = NOTEBOOK_DIR / \"setups\"\n",
    "if not SETUP_DIR.exists():\n",
    "    raise ValueError(\"Setup directory does not exist.\")"
   ]
  },
  {
   "cell_type": "code",
   "execution_count": 3,
   "metadata": {},
   "outputs": [],
   "source": [
    "LAYOUT_FILE = \"d3_rotated_layout.yaml\"\n",
    "layout = Layout.from_yaml(LAYOUT_DIR / LAYOUT_FILE)\n",
    "\n",
    "SETUP_FILE = \"gen_circ_noise.yaml\"\n",
    "setup = Setup.from_yaml(SETUP_DIR / SETUP_FILE)\n",
    "\n",
    "model = CircuitNoiseModel(setup, layout)"
   ]
  },
  {
   "cell_type": "markdown",
   "metadata": {},
   "source": [
    "# Generate the training data"
   ]
  },
  {
   "cell_type": "code",
   "execution_count": 7,
   "metadata": {},
   "outputs": [],
   "source": [
    "DATASET_TYPE : int = \"test\" # Possible types are \"train\", \"dev\" and \"test\"\n",
    "\n",
    "# Fixed parameters\n",
    "ROOT_SEED : Union[int, None] = 4028 # Initial seed for the RNG\n",
    "NUM_ROUNDS : int = 20 # Number of rounds\n",
    "NUM_SHOTS : int = 10000 # Number of shots\n",
    "ROT_BASIS : bool = False  # In the z-basis\n",
    "MEAS_RESET : bool = False # No resets following measurements\n",
    "\n",
    "# Variable parameters\n",
    "LOG_STATES : List[int] = [0, 1] # Logical state(s)"
   ]
  },
  {
   "cell_type": "code",
   "execution_count": 8,
   "metadata": {},
   "outputs": [],
   "source": [
    "basis = \"X\" if ROT_BASIS else \"Z\"\n",
    "seed_sequence = np.random.SeedSequence(ROOT_SEED)\n",
    "\n",
    "num_experiments = len(LOG_STATES)\n",
    "seeds = iter(seed_sequence.generate_state(num_experiments, dtype=\"uint64\"))\n",
    "datasets = []\n",
    "\n",
    "for log_state in LOG_STATES:\n",
    "    exp_name = f\"surf-code_d{layout.distance}_b{basis}_s{log_state}_n{NUM_SHOTS}_r{NUM_ROUNDS}\"\n",
    "\n",
    "    exp_folder = DATA_DIR / DATASET_TYPE / exp_name\n",
    "    exp_folder.mkdir(parents=True, exist_ok=True)\n",
    "\n",
    "    experiment = memory_exp(\n",
    "        model=model,\n",
    "        num_rounds=NUM_ROUNDS,\n",
    "        log_state=log_state,\n",
    "        rot_basis=ROT_BASIS,\n",
    "        meas_reset=MEAS_RESET,\n",
    "    )\n",
    "\n",
    "    experiment.to_file(exp_folder / \"circuit\")\n",
    "\n",
    "    seed = next(seeds)\n",
    "    dataset = sample_experiment(\n",
    "        layout,\n",
    "        experiment,\n",
    "        seed=seed,\n",
    "        num_shots=NUM_SHOTS,\n",
    "        num_rounds=NUM_ROUNDS,\n",
    "    )\n",
    "\n",
    "    # assign these as coordinate for merging datasets later on. Add here any otther relevant parameters\n",
    "    dataset = dataset.assign_coords(\n",
    "        log_state=log_state,\n",
    "        rot_basis=int(ROT_BASIS),\n",
    "        meas_reset=int(MEAS_RESET),\n",
    "    )\n",
    "\n",
    "    dataset.to_netcdf(exp_folder / \"measurements.nc\")\n",
    "\n",
    "    error_model = experiment.detector_error_model(\n",
    "        decompose_errors=True,\n",
    "        allow_gauge_detectors=True,\n",
    "    )\n",
    "    error_model.to_file(exp_folder / \"detector_error_model\")\n",
    "\n",
    "    setup.to_yaml(exp_folder / \"model_setup.yaml\")\n",
    "    layout.to_yaml(exp_folder / \"layout_setup.yaml\")\n"
   ]
  },
  {
   "cell_type": "code",
   "execution_count": null,
   "metadata": {},
   "outputs": [],
   "source": []
  }
 ],
 "metadata": {
  "kernelspec": {
   "display_name": "surface-sim-kernel",
   "language": "python",
   "name": "surface-sim-kernel"
  },
  "language_info": {
   "codemirror_mode": {
    "name": "ipython",
    "version": 3
   },
   "file_extension": ".py",
   "mimetype": "text/x-python",
   "name": "python",
   "nbconvert_exporter": "python",
   "pygments_lexer": "ipython3",
   "version": "3.10.2"
  }
 },
 "nbformat": 4,
 "nbformat_minor": 2
}
