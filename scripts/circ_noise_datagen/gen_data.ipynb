{
 "cells": [
  {
   "cell_type": "code",
   "execution_count": 1,
   "metadata": {},
   "outputs": [],
   "source": [
    "import pathlib\n",
    "from itertools import count\n",
    "\n",
    "import numpy as np\n",
    "import xarray as xr\n",
    "from matplotlib import pyplot as plt\n",
    "\n",
    "from qec_util import Layout\n",
    "from qec_util.layouts import plot as plot_layout\n",
    "\n",
    "from surface_sim import Setup\n",
    "from surface_sim.models import CircuitNoiseModel\n",
    "from surface_sim.experiments import memory_exp\n",
    "from surface_sim.util import sample_experiment"
   ]
  },
  {
   "cell_type": "code",
   "execution_count": 2,
   "metadata": {},
   "outputs": [],
   "source": [
    "EXP_NAME = \"d3_rot-surf_circ-level_example\"\n",
    "\n",
    "NOTEBOOK_DIR = pathlib.Path.cwd()\n",
    "DATA_DIR = NOTEBOOK_DIR / \"data\" / EXP_NAME\n",
    "\n",
    "LAYOUT_DIR = NOTEBOOK_DIR / \"layouts\"\n",
    "if not LAYOUT_DIR.exists():\n",
    "    raise ValueError(\"Layout directory does not exist.\")\n",
    "\n",
    "SETUP_DIR = NOTEBOOK_DIR / \"setups\"\n",
    "if not SETUP_DIR.exists():\n",
    "    raise ValueError(\"Setup directory does not exist.\")"
   ]
  },
  {
   "cell_type": "code",
   "execution_count": 3,
   "metadata": {},
   "outputs": [],
   "source": [
    "LAYOUT_FILE = \"d3_rotated_layout.yaml\"\n",
    "layout = Layout.from_yaml(LAYOUT_DIR / LAYOUT_FILE)\n",
    "\n",
    "SETUP_FILE = \"circ_level_noise.yaml\"\n",
    "setup = Setup.from_yaml(SETUP_DIR / SETUP_FILE)\n",
    "\n",
    "model = CircuitNoiseModel(setup, layout)"
   ]
  },
  {
   "cell_type": "markdown",
   "metadata": {},
   "source": [
    "# Generate the training data"
   ]
  },
  {
   "cell_type": "code",
   "execution_count": 4,
   "metadata": {},
   "outputs": [],
   "source": [
    "DATASET_TYPE = \"test\"\n",
    "\n",
    "SEED = 4028 # Initial seed for the RNG\n",
    "LOG_STATES = [0, 1] # Logical state(s)\n",
    "NUM_ROUNDS = 20 # Number of rounds\n",
    "NUM_SHOTS = 10000 # Number of shots\n",
    "ROT_BASIS = False  # In the z-basis\n",
    "MEAS_RESET = False # No resets following measurements"
   ]
  },
  {
   "cell_type": "code",
   "execution_count": 5,
   "metadata": {},
   "outputs": [],
   "source": [
    "basis = \"X\" if ROT_BASIS else \"Z\"\n",
    "rng = np.random.default_rng(SEED)\n",
    "\n",
    "datasets = []\n",
    "\n",
    "for log_state in LOG_STATES:\n",
    "    seed = rng.integers(0, 4294967296)\n",
    "\n",
    "    exp_name = f\"d{layout.distance}_surf-code_b{basis}_s{log_state}_n{NUM_SHOTS}_r{NUM_ROUNDS}\"\n",
    "\n",
    "    exp_folder = DATA_DIR / DATASET_TYPE / exp_name\n",
    "    exp_folder.mkdir(parents=True, exist_ok=True)\n",
    "\n",
    "    experiment = memory_exp(\n",
    "        model=model,\n",
    "        num_rounds=NUM_ROUNDS,\n",
    "        log_state=log_state,\n",
    "        rot_basis=ROT_BASIS,\n",
    "        meas_reset=MEAS_RESET,\n",
    "    )\n",
    "\n",
    "    experiment.to_file(exp_folder / \"circuit\")\n",
    "\n",
    "    dataset = sample_experiment(\n",
    "        layout,\n",
    "        experiment,\n",
    "        seed=seed,\n",
    "        num_shots=NUM_SHOTS,\n",
    "        num_rounds=NUM_ROUNDS,\n",
    "    )\n",
    "\n",
    "    # assign these as coordinate for merging datasets later on. Add here any otther relevant parameters\n",
    "    dataset = dataset.assign_coords(\n",
    "        log_state=log_state,\n",
    "        rot_basis=int(ROT_BASIS),\n",
    "        meas_reset=int(MEAS_RESET),\n",
    "    )\n",
    "\n",
    "    dataset.to_netcdf(exp_folder / \"measurements.nc\")\n",
    "\n",
    "    error_model = experiment.detector_error_model(\n",
    "        decompose_errors=True,\n",
    "        allow_gauge_detectors=True,\n",
    "    )\n",
    "    error_model.to_file(exp_folder / \"detector_error_model\")\n",
    "\n",
    "    setup.to_yaml(exp_folder / \"model_setup.yaml\")\n",
    "    layout.to_yaml(exp_folder / \"layout_setup.yaml\")\n"
   ]
  },
  {
   "cell_type": "code",
   "execution_count": null,
   "metadata": {},
   "outputs": [],
   "source": []
  }
 ],
 "metadata": {
  "kernelspec": {
   "display_name": "surface-sim-kernel",
   "language": "python",
   "name": "surface-sim-kernel"
  },
  "language_info": {
   "codemirror_mode": {
    "name": "ipython",
    "version": 3
   },
   "file_extension": ".py",
   "mimetype": "text/x-python",
   "name": "python",
   "nbconvert_exporter": "python",
   "pygments_lexer": "ipython3",
   "version": "3.10.2"
  }
 },
 "nbformat": 4,
 "nbformat_minor": 2
}
