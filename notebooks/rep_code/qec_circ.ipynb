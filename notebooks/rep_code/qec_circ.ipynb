{
 "cells": [
  {
   "cell_type": "code",
   "execution_count": 1,
   "metadata": {},
   "outputs": [],
   "source": [
    "import pathlib\n",
    "from itertools import product\n",
    "from typing import Any, Iterable, Iterator, Tuple\n",
    "\n",
    "import numpy as np\n",
    "import xarray as xr\n",
    "\n",
    "from qec_util import Layout\n",
    "from surface_sim import Setup\n",
    "from surface_sim.experiments.rep_code import memory_experiment\n",
    "from surface_sim.models import ExperimentalNoiseModel\n",
    "from surface_sim.util import sample_experiment"
   ]
  },
  {
   "cell_type": "code",
   "execution_count": 2,
   "metadata": {},
   "outputs": [],
   "source": [
    "def param_product(*params: Any) -> Iterator[Tuple[Any, ...]]:\n",
    "    par_iters = [par if isinstance(par, Iterable) else (par,) for par in params]\n",
    "    yield from product(*par_iters)"
   ]
  },
  {
   "cell_type": "code",
   "execution_count": 3,
   "metadata": {},
   "outputs": [],
   "source": [
    "EXP_DIR = pathlib.Path.cwd()\n",
    "CONFIG_DIR = EXP_DIR / \"config\""
   ]
  },
  {
   "cell_type": "code",
   "execution_count": 4,
   "metadata": {},
   "outputs": [],
   "source": [
    "SETUP_FILE = \"exp_noise.yaml\"\n",
    "LAYOUT_FILE = f\"rep_code_chain_layout.yaml\"\n",
    "\n",
    "layout = Layout.from_yaml(CONFIG_DIR / LAYOUT_FILE)\n",
    "setup = Setup.from_yaml(CONFIG_DIR / SETUP_FILE)\n",
    "\n",
    "model = ExperimentalNoiseModel(setup, layout)"
   ]
  },
  {
   "cell_type": "code",
   "execution_count": 5,
   "metadata": {},
   "outputs": [],
   "source": [
    "DATASET_TYPE = \"data\"\n",
    "ROOT_SEED = np.random.randint(999999)  # Initial seed for the RNG\n",
    "\n",
    "# Variable parameters\n",
    "# NUM_ROUNDS = list(range(1, 41, 4))  # Train and dev dataset\n",
    "NUM_ROUNDS = list(range(0, 16)) # Test dataset\n",
    "\n",
    "NUM_SHOTS: int = 250000\n",
    "\n",
    "DATA_INITS = [[0, 1, 0, 1, 0, 1, 0], [1, 0, 1, 0, 1, 0, 1]]  # Logical state(s)\n",
    "# %%\n",
    "params = tuple(param_product(DATA_INITS, NUM_ROUNDS))\n",
    "num_runs = len(params)\n",
    "\n",
    "seed_sequence = np.random.SeedSequence(ROOT_SEED)\n",
    "seeds = iter(seed_sequence.generate_state(num_runs, dtype=\"uint64\"))\n",
    "\n",
    "data_qubits = layout.get_qubits(role=\"data\")\n",
    "num_data = len(data_qubits)\n",
    "distance = layout.distance\n",
    "\n",
    "anc_qubits = layout.get_qubits(role=\"anc\")\n",
    "num_anc = len(anc_qubits)\n",
    "\n",
    "correction_arr = np.zeros(num_anc, dtype=int)\n",
    "par_corrections = xr.DataArray(\n",
    "    data = correction_arr,\n",
    "    dims = ['anc_qubit'],\n",
    "    coords=dict(anc_qubit=anc_qubits)\n",
    ")"
   ]
  },
  {
   "cell_type": "code",
   "execution_count": 12,
   "metadata": {},
   "outputs": [],
   "source": [
    "experiment = memory_experiment(\n",
    "    model,\n",
    "    data_init=[0,1,0,1,0,1,0],\n",
    "    num_rounds=3,\n",
    ")"
   ]
  },
  {
   "cell_type": "code",
   "execution_count": 13,
   "metadata": {},
   "outputs": [
    {
     "data": {
      "text/plain": [
       "stim.Circuit('''\n",
       "    R 3 0 4 10 1 11 9 8 6 7 5 2 12\n",
       "    X_ERROR(0) 3 0 4 10 1 11 9 8 6 7 5 2 12\n",
       "    TICK\n",
       "    X 2 10 6\n",
       "    DEPOLARIZE1(0.0048) 2\n",
       "    DEPOLARIZE1(0.0122) 10\n",
       "    DEPOLARIZE1(0.0022) 6\n",
       "    PAULI_CHANNEL_1(0.000572934, 0.000572934, 0.00029716) 3\n",
       "    PAULI_CHANNEL_1(0.000275164, 0.000275164, 0.000418943) 0\n",
       "    PAULI_CHANNEL_1(0.000434103, 0.000434103, 0.000501) 4\n",
       "    PAULI_CHANNEL_1(0.000707413, 0.000707413, 0.000190656) 1\n",
       "    PAULI_CHANNEL_1(0.000470721, 0.000470721, 8.3357e-05) 11\n",
       "    PAULI_CHANNEL_1(0.000402155, 0.000402155, 0.000343001) 9\n",
       "    PAULI_CHANNEL_1(0.000345542, 0.000345542, 0.000473659) 8\n",
       "    PAULI_CHANNEL_1(0.000504439, 0.000504439, 0.0010114) 7\n",
       "    PAULI_CHANNEL_1(0.000852078, 0.000852078, 0.000173878) 12\n",
       "    PAULI_CHANNEL_1(0.000977516, 0.000977516, 0.00125413) 5\n",
       "    TICK\n",
       "    REPEAT 2 {\n",
       "        H 1 5 9\n",
       "        DEPOLARIZE1(0.0066) 1\n",
       "        DEPOLARIZE1(0.0186) 5\n",
       "        DEPOLARIZE1(0.01) 9\n",
       "        PAULI_CHANNEL_1(0.000572934, 0.000572934, 0.00029716) 3\n",
       "        PAULI_CHANNEL_1(0.000275164, 0.000275164, 0.000418943) 0\n",
       "        PAULI_CHANNEL_1(0.000434103, 0.000434103, 0.000501) 4\n",
       "        PAULI_CHANNEL_1(0.000487614, 0.000487614, 0.000146139) 10\n",
       "        PAULI_CHANNEL_1(0.000470721, 0.000470721, 8.3357e-05) 11\n",
       "        PAULI_CHANNEL_1(0.000345542, 0.000345542, 0.000473659) 8\n",
       "        PAULI_CHANNEL_1(0.000357577, 0.000357577, 0.00103305) 6\n",
       "        PAULI_CHANNEL_1(0.000504439, 0.000504439, 0.0010114) 7\n",
       "        PAULI_CHANNEL_1(0.000443144, 0.000443144, 0.00025743) 2\n",
       "        PAULI_CHANNEL_1(0.000852078, 0.000852078, 0.000173878) 12\n",
       "        TICK\n",
       "        CZ 1 2 5 6 9 10\n",
       "        DEPOLARIZE2(0.024) 1 2\n",
       "        DEPOLARIZE2(0.036) 5 6\n",
       "        DEPOLARIZE2(0.0190667) 9 10\n",
       "        PAULI_CHANNEL_1(0.00114456, 0.00114456, 0.000594119) 3\n",
       "        PAULI_CHANNEL_1(0.000550025, 0.000550025, 0.000837226) 0\n",
       "        PAULI_CHANNEL_1(0.000867452, 0.000867452, 0.00100101) 4\n",
       "        PAULI_CHANNEL_1(0.000940556, 0.000940556, 0.000166986) 11\n",
       "        PAULI_CHANNEL_1(0.000690607, 0.000690607, 0.000946454) 8\n",
       "        PAULI_CHANNEL_1(0.00100786, 0.00100786, 0.00201922) 7\n",
       "        PAULI_CHANNEL_1(0.00170125, 0.00170125, 0.000348555) 12\n",
       "        TICK\n",
       "        CZ 1 0 5 4 9 8\n",
       "        DEPOLARIZE2(0.0386667) 1 0\n",
       "        DEPOLARIZE2(0.0341333) 5 4\n",
       "        DEPOLARIZE2(0.0345333) 9 8\n",
       "        PAULI_CHANNEL_1(0.00114456, 0.00114456, 0.000594119) 3\n",
       "        PAULI_CHANNEL_1(0.000974278, 0.000974278, 0.000292426) 10\n",
       "        PAULI_CHANNEL_1(0.000940556, 0.000940556, 0.000166986) 11\n",
       "        PAULI_CHANNEL_1(0.000714643, 0.000714643, 0.00206274) 6\n",
       "        PAULI_CHANNEL_1(0.00100786, 0.00100786, 0.00201922) 7\n",
       "        PAULI_CHANNEL_1(0.000885503, 0.000885503, 0.000514664) 2\n",
       "        PAULI_CHANNEL_1(0.00170125, 0.00170125, 0.000348555) 12\n",
       "        TICK\n",
       "        H 1 3 5 7 9 11\n",
       "        DEPOLARIZE1(0.0066) 1\n",
       "        DEPOLARIZE1(0.0064) 3\n",
       "        DEPOLARIZE1(0.0186) 5\n",
       "        DEPOLARIZE1(0.0054) 7\n",
       "        DEPOLARIZE1(0.01) 9\n",
       "        DEPOLARIZE1(0.0044) 11\n",
       "        PAULI_CHANNEL_1(0.000275164, 0.000275164, 0.000418943) 0\n",
       "        PAULI_CHANNEL_1(0.000443144, 0.000443144, 0.00025743) 2\n",
       "        PAULI_CHANNEL_1(0.000434103, 0.000434103, 0.000501) 4\n",
       "        PAULI_CHANNEL_1(0.000357577, 0.000357577, 0.00103305) 6\n",
       "        PAULI_CHANNEL_1(0.000345542, 0.000345542, 0.000473659) 8\n",
       "        PAULI_CHANNEL_1(0.000487614, 0.000487614, 0.000146139) 10\n",
       "        PAULI_CHANNEL_1(0.000852078, 0.000852078, 0.000173878) 12\n",
       "        TICK\n",
       "        CZ 3 4 7 8 11 12\n",
       "        DEPOLARIZE2(0.0453333) 3 4\n",
       "        DEPOLARIZE2(0.0288) 7 8\n",
       "        DEPOLARIZE2(0.0445333) 11 12\n",
       "        PAULI_CHANNEL_1(0.000550025, 0.000550025, 0.000837226) 0\n",
       "        PAULI_CHANNEL_1(0.000974278, 0.000974278, 0.000292426) 10\n",
       "        PAULI_CHANNEL_1(0.00141282, 0.00141282, 0.0003817) 1\n",
       "        PAULI_CHANNEL_1(0.000803664, 0.000803664, 0.000685538) 9\n",
       "        PAULI_CHANNEL_1(0.000714643, 0.000714643, 0.00206274) 6\n",
       "        PAULI_CHANNEL_1(0.00195121, 0.00195121, 0.00250211) 5\n",
       "        PAULI_CHANNEL_1(0.000885503, 0.000885503, 0.000514664) 2\n",
       "        TICK\n",
       "        CZ 3 2 7 6 11 10\n",
       "        DEPOLARIZE2(0.0198667) 3 2\n",
       "        DEPOLARIZE2(0.0238667) 7 6\n",
       "        DEPOLARIZE2(0.0165333) 11 10\n",
       "        PAULI_CHANNEL_1(0.000550025, 0.000550025, 0.000837226) 0\n",
       "        PAULI_CHANNEL_1(0.000867452, 0.000867452, 0.00100101) 4\n",
       "        PAULI_CHANNEL_1(0.00141282, 0.00141282, 0.0003817) 1\n",
       "        PAULI_CHANNEL_1(0.000803664, 0.000803664, 0.000685538) 9\n",
       "        PAULI_CHANNEL_1(0.000690607, 0.000690607, 0.000946454) 8\n",
       "        PAULI_CHANNEL_1(0.00195121, 0.00195121, 0.00250211) 5\n",
       "        PAULI_CHANNEL_1(0.00170125, 0.00170125, 0.000348555) 12\n",
       "        TICK\n",
       "        H 3 7 11\n",
       "        DEPOLARIZE1(0.0064) 3\n",
       "        DEPOLARIZE1(0.0054) 7\n",
       "        DEPOLARIZE1(0.0044) 11\n",
       "        PAULI_CHANNEL_1(0.000275164, 0.000275164, 0.000418943) 0\n",
       "        PAULI_CHANNEL_1(0.000434103, 0.000434103, 0.000501) 4\n",
       "        PAULI_CHANNEL_1(0.000487614, 0.000487614, 0.000146139) 10\n",
       "        PAULI_CHANNEL_1(0.000707413, 0.000707413, 0.000190656) 1\n",
       "        PAULI_CHANNEL_1(0.000402155, 0.000402155, 0.000343001) 9\n",
       "        PAULI_CHANNEL_1(0.000345542, 0.000345542, 0.000473659) 8\n",
       "        PAULI_CHANNEL_1(0.000357577, 0.000357577, 0.00103305) 6\n",
       "        PAULI_CHANNEL_1(0.000977516, 0.000977516, 0.00125413) 5\n",
       "        PAULI_CHANNEL_1(0.000443144, 0.000443144, 0.00025743) 2\n",
       "        PAULI_CHANNEL_1(0.000852078, 0.000852078, 0.000173878) 12\n",
       "        TICK\n",
       "        X_ERROR(0.0302) 1\n",
       "        M 1\n",
       "        X_ERROR(0.0349) 1\n",
       "        X_ERROR(0.0182) 3\n",
       "        M 3\n",
       "        X_ERROR(0.0601) 3\n",
       "        X_ERROR(0.0198) 5\n",
       "        M 5\n",
       "        X_ERROR(0.0533) 5\n",
       "        X_ERROR(0.031) 7\n",
       "        M 7\n",
       "        X_ERROR(0.0906) 7\n",
       "        X_ERROR(0.0156) 9\n",
       "        M 9\n",
       "        X_ERROR(0.0914) 9\n",
       "        X_ERROR(0.0381) 11\n",
       "        M 11\n",
       "        X_ERROR(0.0383) 11\n",
       "        PAULI_CHANNEL_1(0.00544611, 0.00544611, 0.00825447) 0\n",
       "        X 0\n",
       "        DEPOLARIZE1(0.0082) 0\n",
       "        PAULI_CHANNEL_1(0.00544611, 0.00544611, 0.00825447) 0\n",
       "        PAULI_CHANNEL_1(0.00871522, 0.00871522, 0.00511132) 2\n",
       "        X 2\n",
       "        DEPOLARIZE1(0.0048) 2\n",
       "        PAULI_CHANNEL_1(0.00871522, 0.00871522, 0.00511132) 2\n",
       "        PAULI_CHANNEL_1(0.00854032, 0.00854032, 0.00983317) 4\n",
       "        X 4\n",
       "        DEPOLARIZE1(0.0018) 4\n",
       "        PAULI_CHANNEL_1(0.00854032, 0.00854032, 0.00983317) 4\n",
       "        PAULI_CHANNEL_1(0.00705519, 0.00705519, 0.0200346) 6\n",
       "        X 6\n",
       "        DEPOLARIZE1(0.0022) 6\n",
       "        PAULI_CHANNEL_1(0.00705519, 0.00705519, 0.0200346) 6\n",
       "        PAULI_CHANNEL_1(0.00682085, 0.00682085, 0.00931066) 8\n",
       "        X 8\n",
       "        DEPOLARIZE1(0.0032) 8\n",
       "        PAULI_CHANNEL_1(0.00682085, 0.00682085, 0.00931066) 8\n",
       "        PAULI_CHANNEL_1(0.00957368, 0.00957368, 0.00294992) 10\n",
       "        X 10\n",
       "        DEPOLARIZE1(0.0122) 10\n",
       "        PAULI_CHANNEL_1(0.00957368, 0.00957368, 0.00294992) 10\n",
       "        PAULI_CHANNEL_1(0.0165009, 0.0165009, 0.00362313) 12\n",
       "        X 12\n",
       "        DEPOLARIZE1(0.0066) 12\n",
       "        PAULI_CHANNEL_1(0.0165009, 0.0165009, 0.00362313) 12\n",
       "        TICK\n",
       "        DETECTOR rec[-6]\n",
       "        DETECTOR rec[-5]\n",
       "        DETECTOR rec[-4]\n",
       "        DETECTOR rec[-3]\n",
       "        DETECTOR rec[-2]\n",
       "        DETECTOR rec[-1]\n",
       "    }\n",
       "    H 1 5 9\n",
       "    DEPOLARIZE1(0.0066) 1\n",
       "    DEPOLARIZE1(0.0186) 5\n",
       "    DEPOLARIZE1(0.01) 9\n",
       "    PAULI_CHANNEL_1(0.000572934, 0.000572934, 0.00029716) 3\n",
       "    PAULI_CHANNEL_1(0.000275164, 0.000275164, 0.000418943) 0\n",
       "    PAULI_CHANNEL_1(0.000434103, 0.000434103, 0.000501) 4\n",
       "    PAULI_CHANNEL_1(0.000487614, 0.000487614, 0.000146139) 10\n",
       "    PAULI_CHANNEL_1(0.000470721, 0.000470721, 8.3357e-05) 11\n",
       "    PAULI_CHANNEL_1(0.000345542, 0.000345542, 0.000473659) 8\n",
       "    PAULI_CHANNEL_1(0.000357577, 0.000357577, 0.00103305) 6\n",
       "    PAULI_CHANNEL_1(0.000504439, 0.000504439, 0.0010114) 7\n",
       "    PAULI_CHANNEL_1(0.000443144, 0.000443144, 0.00025743) 2\n",
       "    PAULI_CHANNEL_1(0.000852078, 0.000852078, 0.000173878) 12\n",
       "    TICK\n",
       "    CZ 1 2 5 6 9 10\n",
       "    DEPOLARIZE2(0.024) 1 2\n",
       "    DEPOLARIZE2(0.036) 5 6\n",
       "    DEPOLARIZE2(0.0190667) 9 10\n",
       "    PAULI_CHANNEL_1(0.00114456, 0.00114456, 0.000594119) 3\n",
       "    PAULI_CHANNEL_1(0.000550025, 0.000550025, 0.000837226) 0\n",
       "    PAULI_CHANNEL_1(0.000867452, 0.000867452, 0.00100101) 4\n",
       "    PAULI_CHANNEL_1(0.000940556, 0.000940556, 0.000166986) 11\n",
       "    PAULI_CHANNEL_1(0.000690607, 0.000690607, 0.000946454) 8\n",
       "    PAULI_CHANNEL_1(0.00100786, 0.00100786, 0.00201922) 7\n",
       "    PAULI_CHANNEL_1(0.00170125, 0.00170125, 0.000348555) 12\n",
       "    TICK\n",
       "    CZ 1 0 5 4 9 8\n",
       "    DEPOLARIZE2(0.0386667) 1 0\n",
       "    DEPOLARIZE2(0.0341333) 5 4\n",
       "    DEPOLARIZE2(0.0345333) 9 8\n",
       "    PAULI_CHANNEL_1(0.00114456, 0.00114456, 0.000594119) 3\n",
       "    PAULI_CHANNEL_1(0.000974278, 0.000974278, 0.000292426) 10\n",
       "    PAULI_CHANNEL_1(0.000940556, 0.000940556, 0.000166986) 11\n",
       "    PAULI_CHANNEL_1(0.000714643, 0.000714643, 0.00206274) 6\n",
       "    PAULI_CHANNEL_1(0.00100786, 0.00100786, 0.00201922) 7\n",
       "    PAULI_CHANNEL_1(0.000885503, 0.000885503, 0.000514664) 2\n",
       "    PAULI_CHANNEL_1(0.00170125, 0.00170125, 0.000348555) 12\n",
       "    TICK\n",
       "    H 1 3 5 7 9 11\n",
       "    DEPOLARIZE1(0.0066) 1\n",
       "    DEPOLARIZE1(0.0064) 3\n",
       "    DEPOLARIZE1(0.0186) 5\n",
       "    DEPOLARIZE1(0.0054) 7\n",
       "    DEPOLARIZE1(0.01) 9\n",
       "    DEPOLARIZE1(0.0044) 11\n",
       "    PAULI_CHANNEL_1(0.000275164, 0.000275164, 0.000418943) 0\n",
       "    PAULI_CHANNEL_1(0.000443144, 0.000443144, 0.00025743) 2\n",
       "    PAULI_CHANNEL_1(0.000434103, 0.000434103, 0.000501) 4\n",
       "    PAULI_CHANNEL_1(0.000357577, 0.000357577, 0.00103305) 6\n",
       "    PAULI_CHANNEL_1(0.000345542, 0.000345542, 0.000473659) 8\n",
       "    PAULI_CHANNEL_1(0.000487614, 0.000487614, 0.000146139) 10\n",
       "    PAULI_CHANNEL_1(0.000852078, 0.000852078, 0.000173878) 12\n",
       "    TICK\n",
       "    CZ 3 4 7 8 11 12\n",
       "    DEPOLARIZE2(0.0453333) 3 4\n",
       "    DEPOLARIZE2(0.0288) 7 8\n",
       "    DEPOLARIZE2(0.0445333) 11 12\n",
       "    PAULI_CHANNEL_1(0.000550025, 0.000550025, 0.000837226) 0\n",
       "    PAULI_CHANNEL_1(0.000974278, 0.000974278, 0.000292426) 10\n",
       "    PAULI_CHANNEL_1(0.00141282, 0.00141282, 0.0003817) 1\n",
       "    PAULI_CHANNEL_1(0.000803664, 0.000803664, 0.000685538) 9\n",
       "    PAULI_CHANNEL_1(0.000714643, 0.000714643, 0.00206274) 6\n",
       "    PAULI_CHANNEL_1(0.00195121, 0.00195121, 0.00250211) 5\n",
       "    PAULI_CHANNEL_1(0.000885503, 0.000885503, 0.000514664) 2\n",
       "    TICK\n",
       "    CZ 3 2 7 6 11 10\n",
       "    DEPOLARIZE2(0.0198667) 3 2\n",
       "    DEPOLARIZE2(0.0238667) 7 6\n",
       "    DEPOLARIZE2(0.0165333) 11 10\n",
       "    PAULI_CHANNEL_1(0.000550025, 0.000550025, 0.000837226) 0\n",
       "    PAULI_CHANNEL_1(0.000867452, 0.000867452, 0.00100101) 4\n",
       "    PAULI_CHANNEL_1(0.00141282, 0.00141282, 0.0003817) 1\n",
       "    PAULI_CHANNEL_1(0.000803664, 0.000803664, 0.000685538) 9\n",
       "    PAULI_CHANNEL_1(0.000690607, 0.000690607, 0.000946454) 8\n",
       "    PAULI_CHANNEL_1(0.00195121, 0.00195121, 0.00250211) 5\n",
       "    PAULI_CHANNEL_1(0.00170125, 0.00170125, 0.000348555) 12\n",
       "    TICK\n",
       "    H 3 7 11\n",
       "    DEPOLARIZE1(0.0064) 3\n",
       "    DEPOLARIZE1(0.0054) 7\n",
       "    DEPOLARIZE1(0.0044) 11\n",
       "    PAULI_CHANNEL_1(0.000275164, 0.000275164, 0.000418943) 0\n",
       "    PAULI_CHANNEL_1(0.000434103, 0.000434103, 0.000501) 4\n",
       "    PAULI_CHANNEL_1(0.000487614, 0.000487614, 0.000146139) 10\n",
       "    PAULI_CHANNEL_1(0.000707413, 0.000707413, 0.000190656) 1\n",
       "    PAULI_CHANNEL_1(0.000402155, 0.000402155, 0.000343001) 9\n",
       "    PAULI_CHANNEL_1(0.000345542, 0.000345542, 0.000473659) 8\n",
       "    PAULI_CHANNEL_1(0.000357577, 0.000357577, 0.00103305) 6\n",
       "    PAULI_CHANNEL_1(0.000977516, 0.000977516, 0.00125413) 5\n",
       "    PAULI_CHANNEL_1(0.000443144, 0.000443144, 0.00025743) 2\n",
       "    PAULI_CHANNEL_1(0.000852078, 0.000852078, 0.000173878) 12\n",
       "    TICK\n",
       "    X_ERROR(0.0302) 1\n",
       "    M 1\n",
       "    X_ERROR(0.0349) 1\n",
       "    X_ERROR(0.0182) 3\n",
       "    M 3\n",
       "    X_ERROR(0.0601) 3\n",
       "    X_ERROR(0.0198) 5\n",
       "    M 5\n",
       "    X_ERROR(0.0533) 5\n",
       "    X_ERROR(0.031) 7\n",
       "    M 7\n",
       "    X_ERROR(0.0906) 7\n",
       "    X_ERROR(0.0156) 9\n",
       "    M 9\n",
       "    X_ERROR(0.0914) 9\n",
       "    X_ERROR(0.0381) 11\n",
       "    M 11\n",
       "    X_ERROR(0.0383) 11\n",
       "    PAULI_CHANNEL_1(0.00544611, 0.00544611, 0.00825447) 0\n",
       "    X 0\n",
       "    DEPOLARIZE1(0.0082) 0\n",
       "    PAULI_CHANNEL_1(0.00544611, 0.00544611, 0.00825447) 0\n",
       "    PAULI_CHANNEL_1(0.00871522, 0.00871522, 0.00511132) 2\n",
       "    X 2\n",
       "    DEPOLARIZE1(0.0048) 2\n",
       "    PAULI_CHANNEL_1(0.00871522, 0.00871522, 0.00511132) 2\n",
       "    PAULI_CHANNEL_1(0.00854032, 0.00854032, 0.00983317) 4\n",
       "    X 4\n",
       "    DEPOLARIZE1(0.0018) 4\n",
       "    PAULI_CHANNEL_1(0.00854032, 0.00854032, 0.00983317) 4\n",
       "    PAULI_CHANNEL_1(0.00705519, 0.00705519, 0.0200346) 6\n",
       "    X 6\n",
       "    DEPOLARIZE1(0.0022) 6\n",
       "    PAULI_CHANNEL_1(0.00705519, 0.00705519, 0.0200346) 6\n",
       "    PAULI_CHANNEL_1(0.00682085, 0.00682085, 0.00931066) 8\n",
       "    X 8\n",
       "    DEPOLARIZE1(0.0032) 8\n",
       "    PAULI_CHANNEL_1(0.00682085, 0.00682085, 0.00931066) 8\n",
       "    PAULI_CHANNEL_1(0.00957368, 0.00957368, 0.00294992) 10\n",
       "    X 10\n",
       "    DEPOLARIZE1(0.0122) 10\n",
       "    PAULI_CHANNEL_1(0.00957368, 0.00957368, 0.00294992) 10\n",
       "    PAULI_CHANNEL_1(0.0165009, 0.0165009, 0.00362313) 12\n",
       "    X 12\n",
       "    DEPOLARIZE1(0.0066) 12\n",
       "    PAULI_CHANNEL_1(0.0165009, 0.0165009, 0.00362313) 12\n",
       "    TICK\n",
       "    DETECTOR rec[-6] rec[-18]\n",
       "    DETECTOR rec[-5] rec[-17]\n",
       "    DETECTOR rec[-4] rec[-16]\n",
       "    DETECTOR rec[-3] rec[-15]\n",
       "    DETECTOR rec[-2] rec[-14]\n",
       "    DETECTOR rec[-1] rec[-13]\n",
       "    X_ERROR(0.0563) 0\n",
       "    M 0\n",
       "    X_ERROR(0) 0\n",
       "    X_ERROR(0.0502) 2\n",
       "    M 2\n",
       "    X_ERROR(0) 2\n",
       "    X_ERROR(0.0135) 4\n",
       "    M 4\n",
       "    X_ERROR(0) 4\n",
       "    X_ERROR(0.0281) 6\n",
       "    M 6\n",
       "    X_ERROR(0) 6\n",
       "    X_ERROR(0.1182) 8\n",
       "    M 8\n",
       "    X_ERROR(0) 8\n",
       "    X_ERROR(0.0275) 10\n",
       "    M 10\n",
       "    X_ERROR(0) 10\n",
       "    X_ERROR(0.0216) 12\n",
       "    M 12\n",
       "    X_ERROR(0) 12\n",
       "    PAULI_CHANNEL_1(0.0267897, 0.0267897, 0.00790303) 1\n",
       "    PAULI_CHANNEL_1(0.0219223, 0.0219223, 0.0117261) 3\n",
       "    PAULI_CHANNEL_1(0.0362618, 0.0362618, 0.0456563) 5\n",
       "    PAULI_CHANNEL_1(0.0194036, 0.0194036, 0.0377794) 7\n",
       "    PAULI_CHANNEL_1(0.0155918, 0.0155918, 0.0133644) 9\n",
       "    PAULI_CHANNEL_1(0.0181537, 0.0181537, 0.00353713) 11\n",
       "    TICK\n",
       "    DETECTOR rec[-7] rec[-6] rec[-13] rec[-19]\n",
       "    DETECTOR rec[-6] rec[-5] rec[-12] rec[-18]\n",
       "    DETECTOR rec[-5] rec[-4] rec[-11] rec[-17]\n",
       "    DETECTOR rec[-4] rec[-3] rec[-10] rec[-16]\n",
       "    DETECTOR rec[-3] rec[-2] rec[-9] rec[-15]\n",
       "    DETECTOR rec[-2] rec[-1] rec[-8] rec[-14]\n",
       "    OBSERVABLE_INCLUDE(0) rec[-7] rec[-6] rec[-5] rec[-4] rec[-3] rec[-2] rec[-1]\n",
       "''')"
      ]
     },
     "execution_count": 13,
     "metadata": {},
     "output_type": "execute_result"
    }
   ],
   "source": [
    "experiment"
   ]
  },
  {
   "cell_type": "code",
   "execution_count": 32,
   "metadata": {},
   "outputs": [],
   "source": [
    "from stim import Circuit, target_rec\n",
    "\n",
    "circuit = Circuit()\n",
    "comp_rounds = 1\n",
    "\n",
    "num_data = len(data_qubits)\n",
    "num_anc = len(anc_qubits)\n",
    "\n",
    "for anc_qubit in anc_qubits:\n",
    "    nbr_qubits = model.layout.get_neighbors(anc_qubit)\n",
    "    nbr_inds = (data_qubits.index(nbr_qubit) for nbr_qubit in nbr_qubits)\n",
    "\n",
    "    targets = [target_rec(ind - num_data) for ind in nbr_inds]\n",
    "\n",
    "    if comp_rounds:\n",
    "        anc_ind = anc_qubits.index(anc_qubit)\n",
    "\n",
    "        for round_ind in range(1, comp_rounds + 1):\n",
    "            target = target_rec(anc_ind - num_data - round_ind * num_anc)\n",
    "            targets.append(target)\n",
    "    circuit.append(\"DETECTOR\", targets)\n",
    "\n",
    "targets = [target_rec(ind) for ind in range(-num_data, 0)]\n",
    "circuit.append(\"OBSERVABLE_INCLUDE\", targets, 0)"
   ]
  },
  {
   "cell_type": "code",
   "execution_count": 54,
   "metadata": {},
   "outputs": [],
   "source": [
    "circuit = Circuit()\n",
    "comp_rounds =  2\n",
    "num_anc = len(anc_qubits)\n",
    "\n",
    "if comp_rounds:\n",
    "    round_offsets = (1, comp_rounds + 1)\n",
    "    for ind in range(num_anc):\n",
    "        targets = [target_rec(ind - num_anc * offset) for offset in round_offsets]\n",
    "        circuit.append(\"DETECTOR\", targets)\n",
    "else:\n",
    "    for anc_ind in range(num_anc):\n",
    "        target = target_rec(anc_ind - num_anc)\n",
    "        circuit.append(\"DETECTOR\", target)"
   ]
  },
  {
   "cell_type": "code",
   "execution_count": 56,
   "metadata": {},
   "outputs": [
    {
     "data": {
      "text/plain": [
       "True"
      ]
     },
     "execution_count": 56,
     "metadata": {},
     "output_type": "execute_result"
    }
   ],
   "source": [
    "not 0"
   ]
  },
  {
   "cell_type": "code",
   "execution_count": null,
   "metadata": {},
   "outputs": [],
   "source": []
  },
  {
   "cell_type": "code",
   "execution_count": 6,
   "metadata": {},
   "outputs": [],
   "source": [
    "from matplotlib import pyplot as plt\n",
    "\n",
    "from typing import Optional, Tuple\n",
    "\n",
    "from xarray import DataArray, Dataset\n",
    "\n",
    "\n",
    "def get_syndromes(anc_meas: DataArray) -> DataArray:\n",
    "    \"\"\"\n",
    "    get_syndromes Calculates the syndrome from the ancilla measurements.\n",
    "\n",
    "    Parameters\n",
    "    ----------\n",
    "    anc_meas : DataArray\n",
    "        The ancilla measurements, with dimensions 'anc_qubit' and 'qec_round'.\n",
    "\n",
    "    Returns\n",
    "    -------\n",
    "    DataArray\n",
    "        The calculated syndromes\n",
    "    \"\"\"\n",
    "    syndromes = anc_meas ^ anc_meas.shift(qec_round=1, fill_value=0)\n",
    "    return syndromes\n",
    "\n",
    "\n",
    "def get_defects(syndromes: DataArray, frame: Optional[DataArray] = None) -> DataArray:\n",
    "    \"\"\"\n",
    "    get_defects Calculates the defects/detectors from the syndromes\n",
    "\n",
    "    Parameters\n",
    "    ----------\n",
    "    syndromes : DataArray\n",
    "        The syndromes, either directly measured or calculated\n",
    "        from the measurements (when ancilla reset is not used).\n",
    "        Must include dimensions 'anc_qubit' and 'qec_round'.\n",
    "    frame : Optional[DataArray], optional\n",
    "        The Pauli frame, by default None\n",
    "\n",
    "    Returns\n",
    "    -------\n",
    "    DataArray\n",
    "        The calculated defects/detectors\n",
    "    \"\"\"\n",
    "    syndromes = syndromes.transpose(..., \"anc_qubit\", \"qec_round\")\n",
    "    shifted_syndromes = syndromes.shift(qec_round=1, fill_value=0)\n",
    "\n",
    "    if frame is not None:\n",
    "        shifted_syndromes[..., 0] = frame\n",
    "\n",
    "    defects = syndromes ^ shifted_syndromes\n",
    "    return defects\n",
    "\n",
    "\n",
    "def get_final_defects(syndromes: DataArray, proj_syndrome: DataArray) -> DataArray:\n",
    "    \"\"\"\n",
    "    get_final_defects Calculates the final defects/detectors from the syndromes\n",
    "    and the syndromes projected from tthe data-qubt measurements.\n",
    "\n",
    "    Parameters\n",
    "    ----------\n",
    "    syndromes : DataArray\n",
    "        The syndromes, either directly measured or calculated\n",
    "        from the measurements (when ancilla reset is not used).\n",
    "    proj_syndrome : DataArray\n",
    "        The syndromes projected from the data-qubit measurements.\n",
    "\n",
    "    Returns\n",
    "    -------\n",
    "    DataArray\n",
    "        The calculated final defects/detectors\n",
    "    \"\"\"\n",
    "    last_round = syndromes.qec_round.values[-1]\n",
    "    anc_qubits = proj_syndrome.anc_qubit.values\n",
    "\n",
    "    last_syndromes = syndromes.sel(anc_qubit=anc_qubits, qec_round=last_round)\n",
    "    defects = last_syndromes ^ proj_syndrome\n",
    "    return defects\n",
    "\n",
    "\n",
    "def extract_defects(\n",
    "    dataset: Dataset, parity_mat: DataArray\n",
    ") -> Tuple[DataArray, DataArray]:\n",
    "    corrections = dataset.par_corrections\n",
    "\n",
    "    syndromes = get_syndromes(dataset.anc_meas)\n",
    "\n",
    "    frame = dataset.init_state.dot(parity_mat) % 2\n",
    "    frame = frame ^ corrections\n",
    "\n",
    "    defects = get_defects(syndromes, frame)\n",
    "\n",
    "    proj_syndromes = dataset.data_meas.dot(parity_mat) % 2\n",
    "    proj_syndromes[\"qec_round\"] = dataset.qec_round.size + 1\n",
    "    proj_syndromes = proj_syndromes ^ corrections\n",
    "\n",
    "    final_defects = get_final_defects(syndromes, proj_syndromes)\n",
    "    return defects, final_defects\n"
   ]
  },
  {
   "cell_type": "code",
   "execution_count": 7,
   "metadata": {},
   "outputs": [],
   "source": [
    "anc_qubits = layout.get_qubits(role=\"anc\")\n",
    "anc_qubits.sort(key=lambda qubit: layout.param(\"chain_ind\", qubit))\n",
    "\n",
    "parity_mat = layout.projection_matrix(stab_type=\"z_type\")\n",
    "parity_mat = parity_mat.sel(anc_qubit=anc_qubits)\n",
    "\n",
    "meas_defects, final_defects = extract_defects(dataset, parity_mat)\n",
    "\n",
    "num_rounds = meas_defects.qec_round.size\n",
    "final_defects = final_defects.assign_coords(qec_round=num_rounds + 1)\n",
    "\n",
    "defects = xr.concat([meas_defects, final_defects], dim=\"qec_round\")"
   ]
  },
  {
   "cell_type": "code",
   "execution_count": 8,
   "metadata": {},
   "outputs": [
    {
     "data": {
      "image/png": "[encoded data removed]",
      "text/plain": [
       "<Figure size 960x720 with 1 Axes>"
      ]
     },
     "metadata": {},
     "output_type": "display_data"
    }
   ],
   "source": [
    "RC_PARAMS = {\n",
    "    'axes.labelsize': 8,\n",
    "    'legend.fontsize': 8,\n",
    "    'xtick.labelsize': 8,\n",
    "    'ytick.labelsize': 8,\n",
    "    'text.usetex': True,\n",
    "    'font.family': 'serif'\n",
    "}\n",
    "\n",
    "PLOT_COLORS = dict(\n",
    "    X1='#b3e5fc', \n",
    "    X2='#03a9f4', \n",
    "    X3='#2196f3', \n",
    "    X4='#0d47a1', \n",
    "    Z1='#4caf50', \n",
    "    Z2='#1b5e20'\n",
    ")\n",
    "with plt.rc_context(RC_PARAMS):\n",
    "    fig, ax = plt.subplots(1, 1, dpi=150)\n",
    "\n",
    "    for anc_qubit in defects.anc_qubit.values:\n",
    "        plot_label = f\"{anc_qubit[0]}$_{{{anc_qubit[1:]}}}$\"\n",
    "        ax.errorbar(\n",
    "            defects.qec_round,\n",
    "            defects.sel(anc_qubit=anc_qubit).mean(dim='shot'), \n",
    "            color=PLOT_COLORS[anc_qubit],\n",
    "            label=plot_label,\n",
    "            marker='.'\n",
    "        )\n",
    "\n",
    "    ax.set_ylabel(r'Defect rate $\\left\\langle d_{i} \\right\\rangle$')\n",
    "    ax.set_ylim(0, 0.5)\n",
    "    ax.set_yticks([0, 0.1, 0.2, 0.3, 0.4, 0.5])\n",
    "    ax.set_xlabel('QEC round')\n",
    "    ax.set_xticks([0, 5, 10, 15])\n",
    "    \n",
    "    ax.legend(\n",
    "        frameon=False, \n",
    "        bbox_to_anchor=(1.05, 1),\n",
    "        loc='upper left',\n",
    "        handletextpad=0.4,\n",
    "        labelspacing=0.4,\n",
    "        markerscale=1.0,\n",
    "        handlelength=1.5,\n",
    "        borderaxespad=0.05,\n",
    "        columnspacing=0.4\n",
    "    )\n",
    "\n",
    "plt.tight_layout()\n",
    "plt.show()"
   ]
  },
  {
   "cell_type": "code",
   "execution_count": 9,
   "metadata": {},
   "outputs": [
    {
     "name": "stdout",
     "output_type": "stream",
     "text": [
      "error(0.00818891) D0 D1 L0\n",
      "error(0.0520505) D0 D6\n",
      "error(0.0125707) D0 L0\n",
      "error(0.0125846) D1 D2 L0\n",
      "error(0.016008) D1 D6 L0\n",
      "error(0.0491454) D1 D7\n",
      "error(0.0220315) D1 D8 L0\n",
      "error(0.011095) D2 D3 L0\n",
      "error(0.0706009) D2 D8\n",
      "error(0.0120012) D3 D4 L0\n",
      "error(0.0194247) D3 D8 L0\n",
      "error(0.056123) D3 D9\n",
      "error(0.0175588) D3 D10 L0\n",
      "error(0.00703826) D4 D5 L0\n",
      "error(0.0463288) D4 D10\n",
      "error(0.0142546) D5 D10 L0\n",
      "error(0.0526304) D5 D11\n",
      "error(0.0235287) D5 L0\n",
      "error(0.0493783) D6 D7 L0\n",
      "error(0.0821358) D6 D12\n",
      "error(0.0506596) D6 L0\n",
      "error(0.0104197) D6 L0 ^ D0 L0\n",
      "error(0.0587788) D7 D8 L0\n",
      "error(0.016008) D7 D12 L0\n",
      "error(0.102428) D7 D13\n",
      "error(0.0220315) D7 D14 L0\n",
      "error(0.0453658) D8 D9 L0\n",
      "error(0.11487) D8 D14\n",
      "error(0.0484304) D9 D10 L0\n",
      "error(0.0194247) D9 D14 L0\n",
      "error(0.135819) D9 D15\n",
      "error(0.0175588) D9 D16 L0\n",
      "error(0.0551209) D10 D11 L0\n",
      "error(0.128663) D10 D16\n",
      "error(0.0142546) D11 D16 L0\n",
      "error(0.08612) D11 D17\n",
      "error(0.0997123) D11 L0\n",
      "error(0.01202) D11 L0 ^ D5 L0\n",
      "error(0.0493783) D12 D13 L0\n",
      "error(0.0821358) D12 D18\n",
      "error(0.0506596) D12 L0\n",
      "error(0.0104197) D12 L0 ^ D6 L0\n",
      "error(0.0587788) D13 D14 L0\n",
      "error(0.016008) D13 D18 L0\n",
      "error(0.102428) D13 D19\n",
      "error(0.0220315) D13 D20 L0\n",
      "error(0.0453658) D14 D15 L0\n",
      "error(0.11487) D14 D20\n",
      "error(0.0484304) D15 D16 L0\n",
      "error(0.0194247) D15 D20 L0\n",
      "error(0.135819) D15 D21\n",
      "error(0.0175588) D15 D22 L0\n",
      "error(0.0551209) D16 D17 L0\n",
      "error(0.128663) D16 D22\n",
      "error(0.0142546) D17 D22 L0\n",
      "error(0.08612) D17 D23\n",
      "error(0.0997123) D17 L0\n",
      "error(0.01202) D17 L0 ^ D11 L0\n",
      "error(0.0886012) D18 D19 L0\n",
      "error(0.0914219) D18 L0\n",
      "error(0.0104197) D18 L0 ^ D12 L0\n",
      "error(0.0603718) D19 D20 L0\n",
      "error(0.0618062) D20 D21 L0\n",
      "error(0.14719) D21 D22 L0\n",
      "error(0.0744182) D22 D23 L0\n",
      "error(0.0994606) D23 L0\n",
      "error(0.01202) D23 L0 ^ D17 L0\n"
     ]
    }
   ],
   "source": [
    "for inst in error_model:\n",
    "    print(inst)"
   ]
  },
  {
   "cell_type": "code",
   "execution_count": 10,
   "metadata": {},
   "outputs": [],
   "source": [
    "from pymatching import Matching"
   ]
  },
  {
   "cell_type": "code",
   "execution_count": 19,
   "metadata": {},
   "outputs": [],
   "source": [
    "graph = Matching.from_detector_error_model(error_model)"
   ]
  },
  {
   "cell_type": "code",
   "execution_count": 44,
   "metadata": {},
   "outputs": [
    {
     "name": "stdout",
     "output_type": "stream",
     "text": [
      "E(0, 1) with p=0.008189 ->  1\n",
      "E(0, 6) with p=0.052050 ->  0\n",
      "E(0, B) with p=0.022728 ->  1\n",
      "E(1, 2) with p=0.012585 ->  1\n",
      "E(1, 6) with p=0.016008 ->  1\n",
      "E(1, 7) with p=0.049145 ->  0\n",
      "E(1, 8) with p=0.022031 ->  1\n",
      "E(2, 3) with p=0.011095 ->  1\n",
      "E(2, 8) with p=0.070601 ->  0\n",
      "E(3, 4) with p=0.012001 ->  1\n",
      "E(3, 8) with p=0.019425 ->  1\n",
      "E(3, 9) with p=0.056123 ->  0\n",
      "E(3, 10) with p=0.017559 ->  1\n",
      "E(4, 5) with p=0.007038 ->  1\n",
      "E(4, 10) with p=0.046329 ->  0\n",
      "E(5, 10) with p=0.014255 ->  1\n",
      "E(5, 11) with p=0.052630 ->  0\n",
      "E(5, B) with p=0.034983 ->  1\n",
      "E(6, 7) with p=0.049378 ->  1\n",
      "E(6, 12) with p=0.082136 ->  0\n",
      "E(6, B) with p=0.069192 ->  1\n",
      "E(7, 8) with p=0.058779 ->  1\n",
      "E(7, 12) with p=0.016008 ->  1\n",
      "E(7, 13) with p=0.102428 ->  0\n",
      "E(7, 14) with p=0.022031 ->  1\n",
      "E(8, 9) with p=0.045366 ->  1\n",
      "E(8, 14) with p=0.114870 ->  0\n",
      "E(9, 10) with p=0.048430 ->  1\n",
      "E(9, 14) with p=0.019425 ->  1\n",
      "E(9, 15) with p=0.135819 ->  0\n",
      "E(9, 16) with p=0.017559 ->  1\n",
      "E(10, 11) with p=0.055121 ->  1\n",
      "E(10, 16) with p=0.128663 ->  0\n",
      "E(11, 16) with p=0.014255 ->  1\n",
      "E(11, 17) with p=0.086120 ->  0\n",
      "E(11, B) with p=0.118727 ->  1\n",
      "E(12, 13) with p=0.049378 ->  1\n",
      "E(12, 18) with p=0.082136 ->  0\n",
      "E(12, B) with p=0.069192 ->  1\n",
      "E(13, 14) with p=0.058779 ->  1\n",
      "E(13, 18) with p=0.016008 ->  1\n",
      "E(13, 19) with p=0.102428 ->  0\n",
      "E(13, 20) with p=0.022031 ->  1\n",
      "E(14, 15) with p=0.045366 ->  1\n",
      "E(14, 20) with p=0.114870 ->  0\n",
      "E(15, 16) with p=0.048430 ->  1\n",
      "E(15, 20) with p=0.019425 ->  1\n",
      "E(15, 21) with p=0.135819 ->  0\n",
      "E(15, 22) with p=0.017559 ->  1\n",
      "E(16, 17) with p=0.055121 ->  1\n",
      "E(16, 22) with p=0.128663 ->  0\n",
      "E(17, 22) with p=0.014255 ->  1\n",
      "E(17, 23) with p=0.086120 ->  0\n",
      "E(17, B) with p=0.118727 ->  1\n",
      "E(18, 19) with p=0.088601 ->  1\n",
      "E(18, B) with p=0.099936 ->  1\n",
      "E(19, 20) with p=0.060372 ->  1\n",
      "E(20, 21) with p=0.061806 ->  1\n",
      "E(21, 22) with p=0.147190 ->  1\n",
      "E(22, 23) with p=0.074418 ->  1\n",
      "E(23, B) with p=0.109090 ->  1\n"
     ]
    }
   ],
   "source": [
    "for start_node, end_node, attrs in graph.edges():\n",
    "    fault_ids = attrs[\"fault_ids\"]\n",
    "    num_faults = len(fault_ids)\n",
    "    assert num_faults <= 1\n",
    "\n",
    "    prob = attrs[\"error_probability\"]\n",
    "\n",
    "    end_node_label = end_node or \"B\"\n",
    "    print(f\"E({start_node}, {end_node_label}) with p={prob:.6f} ->  {num_faults}\")"
   ]
  },
  {
   "cell_type": "code",
   "execution_count": 22,
   "metadata": {},
   "outputs": [],
   "source": []
  },
  {
   "cell_type": "code",
   "execution_count": 35,
   "metadata": {},
   "outputs": [],
   "source": [
    "anc_qubits = list(defects.anc_qubit.values)\n",
    "qec_rounds = list(defects.qec_round.values)\n",
    "\n",
    "indexer = NodeIndexer(anc_qubits, qec_rounds)\n",
    "\n",
    "included_qubits = [\"X4\", \"X3\"]"
   ]
  },
  {
   "cell_type": "code",
   "execution_count": 38,
   "metadata": {},
   "outputs": [],
   "source": [
    "subgraph = Matching()\n",
    "\n",
    "for start_node, end_node, attrs in graph.edges():\n",
    "    start_anc, start_round = indexer.coordinates(start_node)\n",
    "\n",
    "    if start_anc not in included_qubits:\n",
    "        continue\n",
    "\n",
    "    if end_node is None:\n",
    "        subgraph.add_boundary_edge(start_node, **attrs, merge_strategy=\"independent\")\n",
    "    else:\n",
    "        end_anc, end_round = indexer.coordinates(end_node)\n",
    "        if end_anc in included_qubits:\n",
    "            subgraph.add_edge(start_node, end_node, **attrs, merge_strategy=\"independent\")\n",
    "        else:\n",
    "            subgraph.add_boundary_edge(start_node, **attrs, merge_strategy=\"independent\")\n",
    "        "
   ]
  },
  {
   "cell_type": "code",
   "execution_count": 43,
   "metadata": {},
   "outputs": [
    {
     "name": "stdout",
     "output_type": "stream",
     "text": [
      "E(0, 1) with p=0.008 -> 1\n",
      "E(0, 6) with p=0.052 -> 0\n",
      "E(0, B) with p=0.023 -> 1\n",
      "E(1, B) with p=0.034 -> 1\n",
      "E(1, 6) with p=0.016 -> 1\n",
      "E(1, 7) with p=0.049 -> 0\n",
      "E(6, 7) with p=0.049 -> 1\n",
      "E(6, 12) with p=0.082 -> 0\n",
      "E(6, B) with p=0.069 -> 1\n",
      "E(7, B) with p=0.078 -> 1\n",
      "E(7, 12) with p=0.016 -> 1\n",
      "E(7, 13) with p=0.102 -> 0\n",
      "E(12, 13) with p=0.049 -> 1\n",
      "E(12, 18) with p=0.082 -> 0\n",
      "E(12, B) with p=0.069 -> 1\n",
      "E(13, B) with p=0.078 -> 1\n",
      "E(13, 18) with p=0.016 -> 1\n",
      "E(13, 19) with p=0.102 -> 0\n",
      "E(18, 19) with p=0.089 -> 1\n",
      "E(18, B) with p=0.100 -> 1\n",
      "E(19, B) with p=0.060 -> 1\n"
     ]
    }
   ],
   "source": [
    "for start_node, end_node, attrs in subgraph.edges():\n",
    "    fault_ids = attrs[\"fault_ids\"]\n",
    "    num_faults = len(fault_ids)\n",
    "    assert num_faults <= 1\n",
    "\n",
    "    prob = attrs[\"error_probability\"]\n",
    "\n",
    "    end_node_label = end_node or \"B\"\n",
    "    print(f\"E({start_node}, {end_node_label}) with p={prob:.3f} -> {num_faults}\")"
   ]
  },
  {
   "cell_type": "code",
   "execution_count": 1,
   "metadata": {},
   "outputs": [],
   "source": [
    "from networkx import DiGraph"
   ]
  },
  {
   "cell_type": "code",
   "execution_count": 2,
   "metadata": {},
   "outputs": [],
   "source": [
    "graph = DiGraph()"
   ]
  },
  {
   "cell_type": "code",
   "execution_count": 3,
   "metadata": {},
   "outputs": [],
   "source": [
    "graph.add_node(\"D9\", role=\"data\")"
   ]
  },
  {
   "cell_type": "code",
   "execution_count": 4,
   "metadata": {},
   "outputs": [],
   "source": [
    "graph.add_edge(\"D9\", \"X1\", direction=\"north_east\")"
   ]
  },
  {
   "cell_type": "code",
   "execution_count": 6,
   "metadata": {},
   "outputs": [
    {
     "data": {
      "text/plain": [
       "NodeDataView({'D9': {'role': 'data'}, 'X1': {}})"
      ]
     },
     "execution_count": 6,
     "metadata": {},
     "output_type": "execute_result"
    }
   ],
   "source": [
    "graph.nodes(data=True)"
   ]
  },
  {
   "cell_type": "code",
   "execution_count": 7,
   "metadata": {},
   "outputs": [],
   "source": [
    "graph.add_node(\"X1\", role=\"anc\")"
   ]
  },
  {
   "cell_type": "code",
   "execution_count": 8,
   "metadata": {},
   "outputs": [
    {
     "data": {
      "text/plain": [
       "NodeDataView({'D9': {'role': 'data'}, 'X1': {'role': 'anc'}})"
      ]
     },
     "execution_count": 8,
     "metadata": {},
     "output_type": "execute_result"
    }
   ],
   "source": [
    "graph.nodes(data=True)"
   ]
  },
  {
   "cell_type": "code",
   "execution_count": 9,
   "metadata": {},
   "outputs": [],
   "source": [
    "a = 5\n",
    "\n",
    "b = a\n",
    "\n",
    "a += 1"
   ]
  },
  {
   "cell_type": "code",
   "execution_count": 11,
   "metadata": {},
   "outputs": [
    {
     "data": {
      "text/plain": [
       "6"
      ]
     },
     "execution_count": 11,
     "metadata": {},
     "output_type": "execute_result"
    }
   ],
   "source": [
    "a"
   ]
  },
  {
   "cell_type": "code",
   "execution_count": 12,
   "metadata": {},
   "outputs": [],
   "source": [
    "import networkx as nx"
   ]
  },
  {
   "cell_type": "code",
   "execution_count": 24,
   "metadata": {},
   "outputs": [],
   "source": [
    "from scipy import stats\n",
    "import numpy as np"
   ]
  },
  {
   "cell_type": "code",
   "execution_count": 25,
   "metadata": {},
   "outputs": [],
   "source": [
    "array = stats.norm.rvs(size=(1000, 10))"
   ]
  },
  {
   "cell_type": "code",
   "execution_count": 26,
   "metadata": {},
   "outputs": [],
   "source": [
    "res = stats.describe(array, axis=0)"
   ]
  },
  {
   "cell_type": "code",
   "execution_count": 27,
   "metadata": {},
   "outputs": [
    {
     "data": {
      "text/plain": [
       "array([ 0.01142147,  0.00989517,  0.02622816, -0.03367392, -0.0012472 ,\n",
       "       -0.02635196, -0.00680231,  0.063842  ,  0.02441408, -0.02560374])"
      ]
     },
     "execution_count": 27,
     "metadata": {},
     "output_type": "execute_result"
    }
   ],
   "source": [
    "res.mean"
   ]
  },
  {
   "cell_type": "code",
   "execution_count": 28,
   "metadata": {},
   "outputs": [
    {
     "data": {
      "text/plain": [
       "array([0.95043838, 0.94399672, 1.00497258, 1.0491683 , 1.06037656,\n",
       "       0.99431564, 1.08617601, 0.90146737, 0.96753167, 0.9680916 ])"
      ]
     },
     "execution_count": 28,
     "metadata": {},
     "output_type": "execute_result"
    }
   ],
   "source": [
    "res.variance"
   ]
  },
  {
   "cell_type": "code",
   "execution_count": 36,
   "metadata": {},
   "outputs": [
    {
     "data": {
      "text/plain": [
       "array([0.03082918, 0.03072453, 0.0317013 , 0.03239087, 0.03256342,\n",
       "       0.03153277, 0.03295718, 0.03002445, 0.03110517, 0.03111417])"
      ]
     },
     "execution_count": 36,
     "metadata": {},
     "output_type": "execute_result"
    }
   ],
   "source": [
    "np.sqrt(res.variance) / np.sqrt(1000)"
   ]
  },
  {
   "cell_type": "code",
   "execution_count": 37,
   "metadata": {},
   "outputs": [
    {
     "data": {
      "text/plain": [
       "array([0.03082918, 0.03072453, 0.0317013 , 0.03239087, 0.03256342,\n",
       "       0.03153277, 0.03295718, 0.03002445, 0.03110517, 0.03111417])"
      ]
     },
     "execution_count": 37,
     "metadata": {},
     "output_type": "execute_result"
    }
   ],
   "source": [
    "stats.sem(array, axis=0)"
   ]
  },
  {
   "cell_type": "code",
   "execution_count": 38,
   "metadata": {},
   "outputs": [
    {
     "data": {
      "text/plain": [
       "array([ 0.01142147,  0.00989517,  0.02622816, -0.03367392, -0.0012472 ,\n",
       "       -0.02635196, -0.00680231,  0.063842  ,  0.02441408, -0.02560374])"
      ]
     },
     "execution_count": 38,
     "metadata": {},
     "output_type": "execute_result"
    }
   ],
   "source": [
    "np.mean(array, axis=0)"
   ]
  },
  {
   "cell_type": "code",
   "execution_count": null,
   "metadata": {},
   "outputs": [],
   "source": []
  }
 ],
 "metadata": {
  "kernelspec": {
   "display_name": "surface-sim-kernel",
   "language": "python",
   "name": "surface-sim-kernel"
  },
  "language_info": {
   "codemirror_mode": {
    "name": "ipython",
    "version": 3
   },
   "file_extension": ".py",
   "mimetype": "text/x-python",
   "name": "python",
   "nbconvert_exporter": "python",
   "pygments_lexer": "ipython3",
   "version": "3.10.2"
  },
  "orig_nbformat": 4
 },
 "nbformat": 4,
 "nbformat_minor": 2
}
